{
 "cells": [
  {
   "cell_type": "markdown",
   "metadata": {},
   "source": [
    "# Tarea \\#1\n",
    "\n",
    "### Universidad de Costa Rica\n",
    "\n",
    "#### Escuela de Ciencias de la Computación e Informática\n",
    "\n",
    "#### CI0202 - Principios de Informática. Grupos G02,G13\n",
    "\n",
    "#### Prof. Jose Pablo Ramírez Méndez\n",
    "\n",
    "#### I-2022"
   ]
  },
  {
   "cell_type": "markdown",
   "metadata": {},
   "source": [
    "**Objetivo:** Repasar, mediante ejercicios prácticos, los conceptos estudiados en clase de: **Variables y Tipos de dato** aplicados a la resolución de problemas.  \n",
    "**Formato:** Individual  \n",
    "**Entregar:** Debe entregar su código fuente ya sea en 1 archivo por cada ejercicio con extensión (.py) o 1 cuaderno de Jupyter para todos lo ejercicios de la tarea (Puede utilizar este como base para su entregable)"
   ]
  },
  {
   "cell_type": "markdown",
   "metadata": {},
   "source": [
    "- En esta asignación, se debe resolver los ejercicios mencionados posteriormente. Para cada enunciado distinto, se deberá entregar un archivo de código fuente en Python 3 que lleve a cabo la tarea especificada (con extensión .py). Puede también y se recomienda entregar el laboratorio en un cuaderno de Jupyter.  \n",
    "\n",
    "- No olvide incluir su **nombre completo y carnet** en su entrega, ya sea como comentarios de códigos o bien, como celdas de textos si decide utilizar cuadernos de Jupyter.\n",
    "\n",
    "- La tarea es de elaboración y entrega individual. No se aceptarán entregas después de la fecha y hora límite. Tareas elaboradas en grupos serán invalidadas; y serán considerados como **plagio** aquellas que sean idénticas o casi idénticas.\n",
    "\n",
    "- No olvide aplicar cada una de las etapas de resolución de problemas vista en clase. Se recomienda que en la fase de Diseño e implementación, escriba su algoritmo en psudocódigo como comentarios de línea en su código."
   ]
  },
  {
   "cell_type": "markdown",
   "metadata": {},
   "source": [
    "### Evaluación\n",
    "Para cada ejercicio, se evaluará lo siguiente:\n",
    "- **Resultado esperado:** 25%\n",
    " - Lo que el programa realiza coincide con el enunciado. Para una entrada tal, el programa produce el resultado esperado. El programa solicita los datos adecuados y muestra los datos adecuados.\n",
    "- **Resolución del problema:** 65%\n",
    " - Internamente, el programa resuelve o intenta resolver el problema estatado en el enunciado. Esto significa que, aunque su programa tenga errores de cálculo o formato, si se entiende bien lo que están tratando de hacer, los puntos de esta sección serán otorgados.\n",
    "- **Buen formato:** 10%\n",
    " - Utilice nombres de variables significativos (por ejemplo \"coordX\" lugar de \"x\" o \"nombre\" en lugar de \"n\"). Haga manejo de entrada y salida con texto descriptivo. Muestre la cantidad de decimales correcta.\n",
    "\n",
    "Cada ejercicio tiene un puntaje asignado. La nota final es la sumatoria de multiplicar el puntaje de cada ejercicio por la nota obtenida en ese ejercicio, por un máximo de 100 puntos.\n",
    "\n",
    "**Puntos extra**\n",
    "\n",
    "Para cada problema planteado en la tarea adjunte el resultado de la etapa de *Diseño* del flujo del proceso resolución de problemas visto en clase como algoritmo en pseudocódigo. Puede agregarlo como comentarios de código al principio de su implementación o bien, como un documento a parte para todos los ejercicios de la tarea. Puede obtener un máximo de 10 puntos. Por ejemplo, si obtiene un 95 en la nota de la tarea, pero realizó los diseños correspondientes y corresponden **directamente** a la solución implementada, obtiene 10 puntos y su nota sube a 105. Cada diseño tiene valor proporcional a los puntos del ejercicio respecto al máximo de 10 puntos mencionado anteriormente. \n"
   ]
  },
  {
   "cell_type": "markdown",
   "metadata": {},
   "source": [
    "### Enunciado\n",
    "Para cada uno de los siguientes ejercicios, elabore un programa que lo resuelva."
   ]
  },
  {
   "cell_type": "markdown",
   "metadata": {},
   "source": [
    "### Ejercicio 1. Valor 50 pts\n",
    "#### Ecuación de la recta\n",
    "\n",
    "Dado 2 pares ordenados de puntos (x1,y1) y (x2,y2), calcule la recta que atravieza estos puntos. La entrada de su programa serán los datos de los dos puntos, en el orden x1, y1, x2, y2. Su programa deberá mostrar la pendiente $m$ y la intersección con el eje y  $(0, b)$ que corresponden a la función de la curva.\n",
    "\n",
    "**Ejemplo:**  \n",
    "Si a su programa se le ingresa la información:\n",
    "```\n",
    "Ingrese la coordenada x del punto 1: 1\n",
    "Ingrese la coordenada y del punto 1: 2\n",
    "Ingrese la coordenada x del punto 2: 3\n",
    "Ingrese la coordenada y del punto 2: 7\n",
    "```\n",
    "Significa que los puntos son (1, 2) y (3, 7). Su programa debería calcular primero la pendiente $m$ y luego el intersecto $b$. Para este par de puntos, debería mostrarse el siguiente resultado:\n",
    "```\n",
    "m = 2.5\n",
    "b = -0.5\n",
    "```\n",
    "\n",
    "o alternativamente, la función de la recta:\n",
    "\n",
    "```\n",
    "f(x) = 2.5x - 0.5\n",
    "```\n",
    "\n",
    "Ejercicio adaptado del profesor Leonardo Villalobos"
   ]
  },
  {
   "cell_type": "markdown",
   "metadata": {},
   "source": [
    "### Ejercicio 2. Valor 50 pts \n",
    "#### Logitud de los cables del puente colgante"
   ]
  },
  {
   "cell_type": "markdown",
   "metadata": {},
   "source": [
    "Recientemente usted fue contradado para desarrollar un pequeño software para el proyecto nacional de intercomunicación regional aprobado a finales del 2019. El proyecto consiste en el cálculo y presupuestación de la longitud de los cables de acero de los puentes colgantes que serán construidos a lo largo del territorio nacional. El diseño arquitectónico de este tipo de puentes fácilmente se puede modelar como una parábola como se muestra en la siguiente imagen:\n"
   ]
  },
  {
   "cell_type": "markdown",
   "metadata": {},
   "source": [
    "<img src=\"pColgante.png\" width=\"700\">\n",
    "\n",
    "Fuente: [https://prezi.com/xcnjl3aqdjjy/funcion-cuadratica-aplicaciones-y-uso/?frame=532812d3ad8cc2c3c0287a6a6f258b9b38666277]"
   ]
  },
  {
   "cell_type": "markdown",
   "metadata": {},
   "source": [
    "Si recordamos la teoría de la función cuadrática, el vértice de la parábola nos permite determinar el punto mínimo o máximo de la función. Al ser este modelo una parábola cóncava \"hacia arriba\", sabemos que dada la función $ y = ax^2 + bx + c $ implica que $a > 0$ y si su vértice está dado por $( -b/2a, -b/2a + c )$, y conociendo que el vértice es el par ordenado $(0, 0)$ podemos deducir que  $b = c = 0$"
   ]
  },
  {
   "cell_type": "markdown",
   "metadata": {},
   "source": [
    "Es decir, se puede generalizar el modelo en la función cuadrática para el puente colgante de la forma:\n",
    "\n",
    "$y = ax^2$"
   ]
  },
  {
   "cell_type": "markdown",
   "metadata": {},
   "source": [
    "Observe que si conocemos un par ordenado en el dominio de la función como $( 2100, 526 )$ podemos reemplazar y determinar el valor de $a$:\n",
    "\n",
    "$ ( 526 ) = a * ( 2100 ) ^ 2 $\n",
    "\n",
    "$ a = \\frac{ 526}{( 2100 ) ^ 2}$\n",
    "\n",
    "Es decir:\n",
    "\n",
    "$y = \\frac{ 526}{( 2100 ) ^ 2} x^2$"
   ]
  },
  {
   "cell_type": "markdown",
   "metadata": {},
   "source": [
    "Ahora bien, si quisiéramos conocer cuál es la longitud en piez de cable necesaria para conectar la base del puente con la calzada (señalado con color celeste en la imagen) a una distancia \"x\" del centro del puente, basta con calcular su imagen en la función anterior de tal modo que a los $1000$m se necesitan $\\frac{526}{(2100)^2} (1000) ^ 2 = 119.2743 $ piez de cable aproximadamente.\n",
    "\n",
    "Su programa deberá pedir las coordenas de un punto contenido en la función cuadrática para un puente colgante\n",
    "de la siguiente forma, seguido de la distancia en metros para conocer la longitud de cable necesaria:\n",
    "\n",
    "```\n",
    "Ingrese la coordenada x de punto de la función: 2100\n",
    "Ingrese la coordenada y de punto de la función: 526\n",
    "Ingrese la longitud en metros para encontrar la longitud de cable: 1000\n",
    "```\n",
    "\n",
    "Salida esperada:\n",
    "\n",
    "```\n",
    "La función que modela el puente colgante es: y=((526)/(2100)^2)x^2\n",
    "La longitud en pies de cable necesaria es: 119.274\n",
    "```"
   ]
  }
 ],
 "metadata": {
  "kernelspec": {
   "display_name": "Python 3 (ipykernel)",
   "language": "python",
   "name": "python3"
  },
  "language_info": {
   "codemirror_mode": {
    "name": "ipython",
    "version": 3
   },
   "file_extension": ".py",
   "mimetype": "text/x-python",
   "name": "python",
   "nbconvert_exporter": "python",
   "pygments_lexer": "ipython3",
   "version": "3.9.7"
  }
 },
 "nbformat": 4,
 "nbformat_minor": 2
}
